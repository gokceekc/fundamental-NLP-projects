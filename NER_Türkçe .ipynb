{
  "nbformat": 4,
  "nbformat_minor": 0,
  "metadata": {
    "colab": {
      "provenance": []
    },
    "kernelspec": {
      "name": "python3",
      "display_name": "Python 3"
    },
    "language_info": {
      "name": "python"
    },
    "accelerator": "GPU",
    "gpuClass": "standard"
  },
  "cells": [
    {
      "cell_type": "code",
      "source": [
        "!pip install transformers"
      ],
      "metadata": {
        "colab": {
          "base_uri": "https://localhost:8080/"
        },
        "id": "Huzn74DEB2pV",
        "outputId": "eee22fc5-bc3f-4967-e40d-ea5ee14161e5"
      },
      "execution_count": null,
      "outputs": [
        {
          "output_type": "stream",
          "name": "stdout",
          "text": [
            "Looking in indexes: https://pypi.org/simple, https://us-python.pkg.dev/colab-wheels/public/simple/\n",
            "Requirement already satisfied: transformers in /usr/local/lib/python3.9/dist-packages (4.27.4)\n",
            "Requirement already satisfied: numpy>=1.17 in /usr/local/lib/python3.9/dist-packages (from transformers) (1.22.4)\n",
            "Requirement already satisfied: filelock in /usr/local/lib/python3.9/dist-packages (from transformers) (3.10.7)\n",
            "Requirement already satisfied: regex!=2019.12.17 in /usr/local/lib/python3.9/dist-packages (from transformers) (2022.10.31)\n",
            "Requirement already satisfied: tokenizers!=0.11.3,<0.14,>=0.11.1 in /usr/local/lib/python3.9/dist-packages (from transformers) (0.13.3)\n",
            "Requirement already satisfied: tqdm>=4.27 in /usr/local/lib/python3.9/dist-packages (from transformers) (4.65.0)\n",
            "Requirement already satisfied: packaging>=20.0 in /usr/local/lib/python3.9/dist-packages (from transformers) (23.0)\n",
            "Requirement already satisfied: huggingface-hub<1.0,>=0.11.0 in /usr/local/lib/python3.9/dist-packages (from transformers) (0.13.4)\n",
            "Requirement already satisfied: pyyaml>=5.1 in /usr/local/lib/python3.9/dist-packages (from transformers) (6.0)\n",
            "Requirement already satisfied: requests in /usr/local/lib/python3.9/dist-packages (from transformers) (2.27.1)\n",
            "Requirement already satisfied: typing-extensions>=3.7.4.3 in /usr/local/lib/python3.9/dist-packages (from huggingface-hub<1.0,>=0.11.0->transformers) (4.5.0)\n",
            "Requirement already satisfied: idna<4,>=2.5 in /usr/local/lib/python3.9/dist-packages (from requests->transformers) (3.4)\n",
            "Requirement already satisfied: certifi>=2017.4.17 in /usr/local/lib/python3.9/dist-packages (from requests->transformers) (2022.12.7)\n",
            "Requirement already satisfied: charset-normalizer~=2.0.0 in /usr/local/lib/python3.9/dist-packages (from requests->transformers) (2.0.12)\n",
            "Requirement already satisfied: urllib3<1.27,>=1.21.1 in /usr/local/lib/python3.9/dist-packages (from requests->transformers) (1.26.15)\n"
          ]
        }
      ]
    },
    {
      "cell_type": "code",
      "source": [
        "from transformers import AutoModelForTokenClassification, AutoTokenizer, pipeline\n",
        "import torch\n",
        "import pandas as pd"
      ],
      "metadata": {
        "id": "1WyW2pLJDYt8"
      },
      "execution_count": null,
      "outputs": []
    },
    {
      "cell_type": "code",
      "execution_count": null,
      "metadata": {
        "colab": {
          "base_uri": "https://localhost:8080/"
        },
        "id": "EiygLt1lB03T",
        "outputId": "609d7d4b-06fa-44b7-f52e-d63640a70f9d"
      },
      "outputs": [
        {
          "output_type": "stream",
          "name": "stdout",
          "text": [
            "[{'entity_group': 'PER', 'score': 0.99465585, 'word': 'Leyla', 'start': 4, 'end': 9}, {'entity_group': 'ORG', 'score': 0.9981863, 'word': 'Turkcell', 'start': 14, 'end': 22}, {'entity_group': 'LOC', 'score': 0.9976555, 'word': 'Anakara', 'start': 57, 'end': 64}]\n",
            "<class 'list'>\n"
          ]
        }
      ],
      "source": [
        "model = AutoModelForTokenClassification.from_pretrained(\"akdeniz27/bert-base-turkish-cased-ner\")\n",
        "tokenizer = AutoTokenizer.from_pretrained(\"akdeniz27/bert-base-turkish-cased-ner\")\n",
        "ner = pipeline('ner', model=model, tokenizer=tokenizer, aggregation_strategy=\"first\")\n",
        "a=ner(\"Ben Leyla'nın Turkcell'de çalışmasından memnunum. Ayrıca Anakara da gayet nezih ortam var.\")\n",
        "print(a)\n",
        "print(type(a))"
      ]
    },
    {
      "cell_type": "code",
      "source": [
        "from google.colab import drive\n",
        "drive.mount('/content/drive')"
      ],
      "metadata": {
        "id": "3CsgJLk-CLxy",
        "colab": {
          "base_uri": "https://localhost:8080/"
        },
        "outputId": "e89ce0b9-8ad1-4195-f08f-cfc249c495d4"
      },
      "execution_count": null,
      "outputs": [
        {
          "output_type": "stream",
          "name": "stdout",
          "text": [
            "Mounted at /content/drive\n"
          ]
        }
      ]
    },
    {
      "cell_type": "code",
      "source": [
        "data=pd.read_csv('/content/drive/MyDrive/kariyer.csv')\n",
        "data"
      ],
      "metadata": {
        "colab": {
          "base_uri": "https://localhost:8080/",
          "height": 833
        },
        "id": "dcPy5Tx6s0mg",
        "outputId": "f394036a-d139-4863-f2d3-c48dbcb524a6"
      },
      "execution_count": null,
      "outputs": [
        {
          "output_type": "execute_result",
          "data": {
            "text/plain": [
              "    Unnamed: 0                                        job_details\n",
              "0            0            Üniversitelerin Mekatronik Mühendisliği\n",
              "1            1   Elektrik/Elektronik Mühendisliği bölümlerinde...\n",
              "2            2  Tercihen otonom sürüş ve elektronik sistemler ...\n",
              "3            3      Çok iyi seviyede MATLAB/Simulink kullanabilen\n",
              "4            4                   İyi derecede C++ bilgisine sahip\n",
              "5            5       Perception veya localization bilgisine sahip\n",
              "6            6                       Geliştirme süreçlerine hakim\n",
              "7            7   tercihen daha önce Agile (çevik) süreçleriyle...\n",
              "8            8                                            CAN-Bus\n",
              "9            9                                                LIN\n",
              "10          10                                            FlexRAY\n",
              "11          11                                               Seri\n",
              "12          12             TCP/IP haberleşme protokollerini bilen\n",
              "13          13       Kontrol algoritmaları ile daha önce çalışmış\n",
              "14          14          Araç Elektrik-Elektronik mimarisine hakim\n",
              "15          15  İyi seviyede sözlü ve yazılı İngilizce bilgisi...\n",
              "16          16                            Ekip çalışmasına yatkın\n",
              "17          17                  Analitik düşünme yeteneğine sahip\n",
              "18          18                          Seyahat engeli bulunmayan\n",
              "19          19  İzmir'de ikamet eden/edebilecek.İş Tanımı Araç...\n",
              "20          20  Araç elektrik/elektroniği ve otonom sürüş ile ...\n",
              "21          21  Araç elektrik-elektronik alt sistemlerine ait ...\n",
              "22          22   maliyet düşürme ve üretim yöntemleri konuları...\n",
              "23          23  Teknik destek sağlayıcı firmalar ile yürütülen...\n",
              "24          24  Şirket içi ve dışı gerekli teknik dokümantasyo..."
            ],
            "text/html": [
              "\n",
              "  <div id=\"df-54540e49-59ab-4b65-b8fd-6248415c07f9\">\n",
              "    <div class=\"colab-df-container\">\n",
              "      <div>\n",
              "<style scoped>\n",
              "    .dataframe tbody tr th:only-of-type {\n",
              "        vertical-align: middle;\n",
              "    }\n",
              "\n",
              "    .dataframe tbody tr th {\n",
              "        vertical-align: top;\n",
              "    }\n",
              "\n",
              "    .dataframe thead th {\n",
              "        text-align: right;\n",
              "    }\n",
              "</style>\n",
              "<table border=\"1\" class=\"dataframe\">\n",
              "  <thead>\n",
              "    <tr style=\"text-align: right;\">\n",
              "      <th></th>\n",
              "      <th>Unnamed: 0</th>\n",
              "      <th>job_details</th>\n",
              "    </tr>\n",
              "  </thead>\n",
              "  <tbody>\n",
              "    <tr>\n",
              "      <th>0</th>\n",
              "      <td>0</td>\n",
              "      <td>Üniversitelerin Mekatronik Mühendisliği</td>\n",
              "    </tr>\n",
              "    <tr>\n",
              "      <th>1</th>\n",
              "      <td>1</td>\n",
              "      <td>Elektrik/Elektronik Mühendisliği bölümlerinde...</td>\n",
              "    </tr>\n",
              "    <tr>\n",
              "      <th>2</th>\n",
              "      <td>2</td>\n",
              "      <td>Tercihen otonom sürüş ve elektronik sistemler ...</td>\n",
              "    </tr>\n",
              "    <tr>\n",
              "      <th>3</th>\n",
              "      <td>3</td>\n",
              "      <td>Çok iyi seviyede MATLAB/Simulink kullanabilen</td>\n",
              "    </tr>\n",
              "    <tr>\n",
              "      <th>4</th>\n",
              "      <td>4</td>\n",
              "      <td>İyi derecede C++ bilgisine sahip</td>\n",
              "    </tr>\n",
              "    <tr>\n",
              "      <th>5</th>\n",
              "      <td>5</td>\n",
              "      <td>Perception veya localization bilgisine sahip</td>\n",
              "    </tr>\n",
              "    <tr>\n",
              "      <th>6</th>\n",
              "      <td>6</td>\n",
              "      <td>Geliştirme süreçlerine hakim</td>\n",
              "    </tr>\n",
              "    <tr>\n",
              "      <th>7</th>\n",
              "      <td>7</td>\n",
              "      <td>tercihen daha önce Agile (çevik) süreçleriyle...</td>\n",
              "    </tr>\n",
              "    <tr>\n",
              "      <th>8</th>\n",
              "      <td>8</td>\n",
              "      <td>CAN-Bus</td>\n",
              "    </tr>\n",
              "    <tr>\n",
              "      <th>9</th>\n",
              "      <td>9</td>\n",
              "      <td>LIN</td>\n",
              "    </tr>\n",
              "    <tr>\n",
              "      <th>10</th>\n",
              "      <td>10</td>\n",
              "      <td>FlexRAY</td>\n",
              "    </tr>\n",
              "    <tr>\n",
              "      <th>11</th>\n",
              "      <td>11</td>\n",
              "      <td>Seri</td>\n",
              "    </tr>\n",
              "    <tr>\n",
              "      <th>12</th>\n",
              "      <td>12</td>\n",
              "      <td>TCP/IP haberleşme protokollerini bilen</td>\n",
              "    </tr>\n",
              "    <tr>\n",
              "      <th>13</th>\n",
              "      <td>13</td>\n",
              "      <td>Kontrol algoritmaları ile daha önce çalışmış</td>\n",
              "    </tr>\n",
              "    <tr>\n",
              "      <th>14</th>\n",
              "      <td>14</td>\n",
              "      <td>Araç Elektrik-Elektronik mimarisine hakim</td>\n",
              "    </tr>\n",
              "    <tr>\n",
              "      <th>15</th>\n",
              "      <td>15</td>\n",
              "      <td>İyi seviyede sözlü ve yazılı İngilizce bilgisi...</td>\n",
              "    </tr>\n",
              "    <tr>\n",
              "      <th>16</th>\n",
              "      <td>16</td>\n",
              "      <td>Ekip çalışmasına yatkın</td>\n",
              "    </tr>\n",
              "    <tr>\n",
              "      <th>17</th>\n",
              "      <td>17</td>\n",
              "      <td>Analitik düşünme yeteneğine sahip</td>\n",
              "    </tr>\n",
              "    <tr>\n",
              "      <th>18</th>\n",
              "      <td>18</td>\n",
              "      <td>Seyahat engeli bulunmayan</td>\n",
              "    </tr>\n",
              "    <tr>\n",
              "      <th>19</th>\n",
              "      <td>19</td>\n",
              "      <td>İzmir'de ikamet eden/edebilecek.İş Tanımı Araç...</td>\n",
              "    </tr>\n",
              "    <tr>\n",
              "      <th>20</th>\n",
              "      <td>20</td>\n",
              "      <td>Araç elektrik/elektroniği ve otonom sürüş ile ...</td>\n",
              "    </tr>\n",
              "    <tr>\n",
              "      <th>21</th>\n",
              "      <td>21</td>\n",
              "      <td>Araç elektrik-elektronik alt sistemlerine ait ...</td>\n",
              "    </tr>\n",
              "    <tr>\n",
              "      <th>22</th>\n",
              "      <td>22</td>\n",
              "      <td>maliyet düşürme ve üretim yöntemleri konuları...</td>\n",
              "    </tr>\n",
              "    <tr>\n",
              "      <th>23</th>\n",
              "      <td>23</td>\n",
              "      <td>Teknik destek sağlayıcı firmalar ile yürütülen...</td>\n",
              "    </tr>\n",
              "    <tr>\n",
              "      <th>24</th>\n",
              "      <td>24</td>\n",
              "      <td>Şirket içi ve dışı gerekli teknik dokümantasyo...</td>\n",
              "    </tr>\n",
              "  </tbody>\n",
              "</table>\n",
              "</div>\n",
              "      <button class=\"colab-df-convert\" onclick=\"convertToInteractive('df-54540e49-59ab-4b65-b8fd-6248415c07f9')\"\n",
              "              title=\"Convert this dataframe to an interactive table.\"\n",
              "              style=\"display:none;\">\n",
              "        \n",
              "  <svg xmlns=\"http://www.w3.org/2000/svg\" height=\"24px\"viewBox=\"0 0 24 24\"\n",
              "       width=\"24px\">\n",
              "    <path d=\"M0 0h24v24H0V0z\" fill=\"none\"/>\n",
              "    <path d=\"M18.56 5.44l.94 2.06.94-2.06 2.06-.94-2.06-.94-.94-2.06-.94 2.06-2.06.94zm-11 1L8.5 8.5l.94-2.06 2.06-.94-2.06-.94L8.5 2.5l-.94 2.06-2.06.94zm10 10l.94 2.06.94-2.06 2.06-.94-2.06-.94-.94-2.06-.94 2.06-2.06.94z\"/><path d=\"M17.41 7.96l-1.37-1.37c-.4-.4-.92-.59-1.43-.59-.52 0-1.04.2-1.43.59L10.3 9.45l-7.72 7.72c-.78.78-.78 2.05 0 2.83L4 21.41c.39.39.9.59 1.41.59.51 0 1.02-.2 1.41-.59l7.78-7.78 2.81-2.81c.8-.78.8-2.07 0-2.86zM5.41 20L4 18.59l7.72-7.72 1.47 1.35L5.41 20z\"/>\n",
              "  </svg>\n",
              "      </button>\n",
              "      \n",
              "  <style>\n",
              "    .colab-df-container {\n",
              "      display:flex;\n",
              "      flex-wrap:wrap;\n",
              "      gap: 12px;\n",
              "    }\n",
              "\n",
              "    .colab-df-convert {\n",
              "      background-color: #E8F0FE;\n",
              "      border: none;\n",
              "      border-radius: 50%;\n",
              "      cursor: pointer;\n",
              "      display: none;\n",
              "      fill: #1967D2;\n",
              "      height: 32px;\n",
              "      padding: 0 0 0 0;\n",
              "      width: 32px;\n",
              "    }\n",
              "\n",
              "    .colab-df-convert:hover {\n",
              "      background-color: #E2EBFA;\n",
              "      box-shadow: 0px 1px 2px rgba(60, 64, 67, 0.3), 0px 1px 3px 1px rgba(60, 64, 67, 0.15);\n",
              "      fill: #174EA6;\n",
              "    }\n",
              "\n",
              "    [theme=dark] .colab-df-convert {\n",
              "      background-color: #3B4455;\n",
              "      fill: #D2E3FC;\n",
              "    }\n",
              "\n",
              "    [theme=dark] .colab-df-convert:hover {\n",
              "      background-color: #434B5C;\n",
              "      box-shadow: 0px 1px 3px 1px rgba(0, 0, 0, 0.15);\n",
              "      filter: drop-shadow(0px 1px 2px rgba(0, 0, 0, 0.3));\n",
              "      fill: #FFFFFF;\n",
              "    }\n",
              "  </style>\n",
              "\n",
              "      <script>\n",
              "        const buttonEl =\n",
              "          document.querySelector('#df-54540e49-59ab-4b65-b8fd-6248415c07f9 button.colab-df-convert');\n",
              "        buttonEl.style.display =\n",
              "          google.colab.kernel.accessAllowed ? 'block' : 'none';\n",
              "\n",
              "        async function convertToInteractive(key) {\n",
              "          const element = document.querySelector('#df-54540e49-59ab-4b65-b8fd-6248415c07f9');\n",
              "          const dataTable =\n",
              "            await google.colab.kernel.invokeFunction('convertToInteractive',\n",
              "                                                     [key], {});\n",
              "          if (!dataTable) return;\n",
              "\n",
              "          const docLinkHtml = 'Like what you see? Visit the ' +\n",
              "            '<a target=\"_blank\" href=https://colab.research.google.com/notebooks/data_table.ipynb>data table notebook</a>'\n",
              "            + ' to learn more about interactive tables.';\n",
              "          element.innerHTML = '';\n",
              "          dataTable['output_type'] = 'display_data';\n",
              "          await google.colab.output.renderOutput(dataTable, element);\n",
              "          const docLink = document.createElement('div');\n",
              "          docLink.innerHTML = docLinkHtml;\n",
              "          element.appendChild(docLink);\n",
              "        }\n",
              "      </script>\n",
              "    </div>\n",
              "  </div>\n",
              "  "
            ]
          },
          "metadata": {},
          "execution_count": 34
        }
      ]
    },
    {
      "cell_type": "code",
      "source": [
        "job_details=data['job_details'].tolist()\n",
        "print(job_details)\n",
        "details_list = ' '.join(map(str, job_details))\n",
        "print('\\n',details_list)\n"
      ],
      "metadata": {
        "colab": {
          "base_uri": "https://localhost:8080/"
        },
        "id": "R5D-2HvvudsJ",
        "outputId": "1701fab0-930a-40f8-8c94-764dab64df25"
      },
      "execution_count": null,
      "outputs": [
        {
          "output_type": "stream",
          "name": "stdout",
          "text": [
            "['Üniversitelerin Mekatronik Mühendisliği', ' Elektrik/Elektronik Mühendisliği bölümlerinden mezun (tercihen lisansüstü eğitimini tamamlamış)', 'Tercihen otonom sürüş ve elektronik sistemler alanında deneyimli', 'Çok iyi seviyede MATLAB/Simulink kullanabilen', 'İyi derecede C++ bilgisine sahip', 'Perception veya localization bilgisine sahip', 'Geliştirme süreçlerine hakim', ' tercihen daha önce Agile (çevik) süreçleriyle çalışmış', 'CAN-Bus', ' LIN', ' FlexRAY', ' Seri', ' TCP/IP haberleşme protokollerini bilen', 'Kontrol algoritmaları ile daha önce çalışmış', 'Araç Elektrik-Elektronik mimarisine hakim', 'İyi seviyede sözlü ve yazılı İngilizce bilgisine sahip', 'Ekip çalışmasına yatkın', 'Analitik düşünme yeteneğine sahip', 'Seyahat engeli bulunmayan', \"İzmir'de ikamet eden/edebilecek.İş Tanımı\\xa0Araç yazılımı ile ilgili yazılım geliştirme-güncelleme çalışmalarının yürütülmesi\", 'Araç elektrik/elektroniği ve otonom sürüş ile ilgili mimari tasarımı gerçekleştirmek ve geliştirme faaliyetlerinde görev almak', 'Araç elektrik-elektronik alt sistemlerine ait ekipmanların iyileştirme', ' maliyet düşürme ve üretim yöntemleri konularında yapılan çalışmalarını yürütmek', 'Teknik destek sağlayıcı firmalar ile yürütülen ilgi alanındaki faaliyetlerde görev almak', 'Şirket içi ve dışı gerekli teknik dokümantasyonları hazırlamak.']\n",
            "\n",
            " Üniversitelerin Mekatronik Mühendisliği  Elektrik/Elektronik Mühendisliği bölümlerinden mezun (tercihen lisansüstü eğitimini tamamlamış) Tercihen otonom sürüş ve elektronik sistemler alanında deneyimli Çok iyi seviyede MATLAB/Simulink kullanabilen İyi derecede C++ bilgisine sahip Perception veya localization bilgisine sahip Geliştirme süreçlerine hakim  tercihen daha önce Agile (çevik) süreçleriyle çalışmış CAN-Bus  LIN  FlexRAY  Seri  TCP/IP haberleşme protokollerini bilen Kontrol algoritmaları ile daha önce çalışmış Araç Elektrik-Elektronik mimarisine hakim İyi seviyede sözlü ve yazılı İngilizce bilgisine sahip Ekip çalışmasına yatkın Analitik düşünme yeteneğine sahip Seyahat engeli bulunmayan İzmir'de ikamet eden/edebilecek.İş Tanımı Araç yazılımı ile ilgili yazılım geliştirme-güncelleme çalışmalarının yürütülmesi Araç elektrik/elektroniği ve otonom sürüş ile ilgili mimari tasarımı gerçekleştirmek ve geliştirme faaliyetlerinde görev almak Araç elektrik-elektronik alt sistemlerine ait ekipmanların iyileştirme  maliyet düşürme ve üretim yöntemleri konularında yapılan çalışmalarını yürütmek Teknik destek sağlayıcı firmalar ile yürütülen ilgi alanındaki faaliyetlerde görev almak Şirket içi ve dışı gerekli teknik dokümantasyonları hazırlamak.\n"
          ]
        }
      ]
    },
    {
      "cell_type": "code",
      "source": [
        "a2=ner(details_list)\n",
        "print(a2)"
      ],
      "metadata": {
        "colab": {
          "base_uri": "https://localhost:8080/"
        },
        "id": "EvG6koS6u_mx",
        "outputId": "15460087-656f-4b2e-8ca9-a38c1a9cc342"
      },
      "execution_count": null,
      "outputs": [
        {
          "output_type": "stream",
          "name": "stdout",
          "text": [
            "[{'entity_group': 'LOC', 'score': 0.99484396, 'word': 'İzmir', 'start': 705, 'end': 710}]\n"
          ]
        }
      ]
    },
    {
      "cell_type": "markdown",
      "source": [
        "TRANSLATION"
      ],
      "metadata": {
        "id": "YqPhjbGPEiyA"
      }
    },
    {
      "cell_type": "code",
      "source": [
        "!pip install sentencepiece"
      ],
      "metadata": {
        "colab": {
          "base_uri": "https://localhost:8080/"
        },
        "id": "e9mvOCcqJpM9",
        "outputId": "4701a59b-b327-426f-9001-9fd2fe8240c6"
      },
      "execution_count": null,
      "outputs": [
        {
          "output_type": "stream",
          "name": "stdout",
          "text": [
            "Looking in indexes: https://pypi.org/simple, https://us-python.pkg.dev/colab-wheels/public/simple/\n",
            "Requirement already satisfied: sentencepiece in /usr/local/lib/python3.9/dist-packages (0.1.97)\n"
          ]
        }
      ]
    },
    {
      "cell_type": "code",
      "source": [
        "#import os\n",
        "#os._exit(00)"
      ],
      "metadata": {
        "id": "8FvDCH3cGpjH"
      },
      "execution_count": null,
      "outputs": []
    },
    {
      "cell_type": "code",
      "source": [
        "from transformers import pipeline\n",
        "pipe = pipeline(\"translation\", model=\"Helsinki-NLP/opus-mt-tc-big-tr-en\")\n",
        "Eng_job=pipe(details_list)\n",
        "print(Eng_job)\n",
        "print(type(Eng_job))\n"
      ],
      "metadata": {
        "colab": {
          "base_uri": "https://localhost:8080/"
        },
        "id": "uFka152fLpqj",
        "outputId": "2a14a5da-c80b-488c-f224-3793b0a64eb4"
      },
      "execution_count": null,
      "outputs": [
        {
          "output_type": "stream",
          "name": "stderr",
          "text": [
            "/usr/local/lib/python3.9/dist-packages/transformers/models/marian/tokenization_marian.py:194: UserWarning: Recommended: pip install sacremoses.\n",
            "  warnings.warn(\"Recommended: pip install sacremoses.\")\n"
          ]
        },
        {
          "output_type": "stream",
          "name": "stdout",
          "text": [
            "[{'translation_text': 'Mechatronics Engineering Electrical/Electronics Engineering Departments of Electrical/Electronics Engineering (preferentially completed graduate training in the field of electrical engineering) Preferentially in the field of autonomous driving and electronic systems Experienced in the field of electrical engineering Knowledge of high degree C++ Perception or localization Knowledge of developing processes, which have previously worked with Agile (intermediate) processes, and have previously worked with Agile (intermediate) processes to carry out CAN-Bus LIN FlexRAY Serial TCP/IP protocols.'}]\n",
            "<class 'list'>\n"
          ]
        }
      ]
    },
    {
      "cell_type": "code",
      "source": [
        "ll=Eng_job[0]\n",
        "input_asjob=ll['translation_text']\n",
        "print(input_asjob)"
      ],
      "metadata": {
        "colab": {
          "base_uri": "https://localhost:8080/"
        },
        "id": "zLErtb4GTckl",
        "outputId": "88b85bc0-f2d2-48d1-cba7-e50edf13877e"
      },
      "execution_count": null,
      "outputs": [
        {
          "output_type": "stream",
          "name": "stdout",
          "text": [
            "Mechatronics Engineering Electrical/Electronics Engineering Departments of Electrical/Electronics Engineering (preferentially completed graduate training in the field of electrical engineering) Preferentially in the field of autonomous driving and electronic systems Experienced in the field of electrical engineering Knowledge of high degree C++ Perception or localization Knowledge of developing processes, which have previously worked with Agile (intermediate) processes, and have previously worked with Agile (intermediate) processes to carry out CAN-Bus LIN FlexRAY Serial TCP/IP protocols.\n"
          ]
        }
      ]
    },
    {
      "cell_type": "markdown",
      "source": [
        "**Extract Skills from Text**"
      ],
      "metadata": {
        "id": "Pki-P4h4Q1hD"
      }
    },
    {
      "cell_type": "code",
      "execution_count": null,
      "metadata": {
        "colab": {
          "base_uri": "https://localhost:8080/"
        },
        "id": "vGc0DXMmPJFn",
        "outputId": "dd48d854-2850-4a5b-d30f-c44a171c7c7e"
      },
      "outputs": [
        {
          "output_type": "stream",
          "name": "stdout",
          "text": [
            "Looking in indexes: https://pypi.org/simple, https://us-python.pkg.dev/colab-wheels/public/simple/\n",
            "Collecting en-ner-skills==any\n",
            "  Downloading https://huggingface.co/premrawat/en_ner_skills/resolve/main/en_ner_skills-any-py3-none-any.whl (8.5 MB)\n",
            "\u001b[2K     \u001b[90m━━━━━━━━━━━━━━━━━━━━━━━━━━━━━━━━━━━━━━━━\u001b[0m \u001b[32m8.5/8.5 MB\u001b[0m \u001b[31m61.4 MB/s\u001b[0m eta \u001b[36m0:00:00\u001b[0m\n",
            "\u001b[?25hRequirement already satisfied: spacy<3.3.0,>=3.2.1 in /usr/local/lib/python3.9/dist-packages (from en-ner-skills==any) (3.2.5)\n",
            "Requirement already satisfied: pydantic!=1.8,!=1.8.1,<1.9.0,>=1.7.4 in /usr/local/lib/python3.9/dist-packages (from spacy<3.3.0,>=3.2.1->en-ner-skills==any) (1.8.2)\n",
            "Requirement already satisfied: thinc<8.1.0,>=8.0.12 in /usr/local/lib/python3.9/dist-packages (from spacy<3.3.0,>=3.2.1->en-ner-skills==any) (8.0.17)\n",
            "Requirement already satisfied: setuptools in /usr/local/lib/python3.9/dist-packages (from spacy<3.3.0,>=3.2.1->en-ner-skills==any) (67.6.1)\n",
            "Requirement already satisfied: numpy>=1.15.0 in /usr/local/lib/python3.9/dist-packages (from spacy<3.3.0,>=3.2.1->en-ner-skills==any) (1.22.4)\n",
            "Requirement already satisfied: typer<0.5.0,>=0.3.0 in /usr/local/lib/python3.9/dist-packages (from spacy<3.3.0,>=3.2.1->en-ner-skills==any) (0.4.2)\n",
            "Requirement already satisfied: blis<0.8.0,>=0.4.0 in /usr/local/lib/python3.9/dist-packages (from spacy<3.3.0,>=3.2.1->en-ner-skills==any) (0.7.9)\n",
            "Requirement already satisfied: preshed<3.1.0,>=3.0.2 in /usr/local/lib/python3.9/dist-packages (from spacy<3.3.0,>=3.2.1->en-ner-skills==any) (3.0.8)\n",
            "Requirement already satisfied: smart-open<7.0.0,>=5.2.1 in /usr/local/lib/python3.9/dist-packages (from spacy<3.3.0,>=3.2.1->en-ner-skills==any) (6.3.0)\n",
            "Requirement already satisfied: pathy>=0.3.5 in /usr/local/lib/python3.9/dist-packages (from spacy<3.3.0,>=3.2.1->en-ner-skills==any) (0.10.1)\n",
            "Requirement already satisfied: tqdm<5.0.0,>=4.38.0 in /usr/local/lib/python3.9/dist-packages (from spacy<3.3.0,>=3.2.1->en-ner-skills==any) (4.65.0)\n",
            "Requirement already satisfied: murmurhash<1.1.0,>=0.28.0 in /usr/local/lib/python3.9/dist-packages (from spacy<3.3.0,>=3.2.1->en-ner-skills==any) (1.0.9)\n",
            "Requirement already satisfied: spacy-loggers<2.0.0,>=1.0.0 in /usr/local/lib/python3.9/dist-packages (from spacy<3.3.0,>=3.2.1->en-ner-skills==any) (1.0.4)\n",
            "Requirement already satisfied: langcodes<4.0.0,>=3.2.0 in /usr/local/lib/python3.9/dist-packages (from spacy<3.3.0,>=3.2.1->en-ner-skills==any) (3.3.0)\n",
            "Requirement already satisfied: jinja2 in /usr/local/lib/python3.9/dist-packages (from spacy<3.3.0,>=3.2.1->en-ner-skills==any) (3.1.2)\n",
            "Requirement already satisfied: packaging>=20.0 in /usr/local/lib/python3.9/dist-packages (from spacy<3.3.0,>=3.2.1->en-ner-skills==any) (23.0)\n",
            "Requirement already satisfied: wasabi<1.1.0,>=0.8.1 in /usr/local/lib/python3.9/dist-packages (from spacy<3.3.0,>=3.2.1->en-ner-skills==any) (0.10.1)\n",
            "Requirement already satisfied: cymem<2.1.0,>=2.0.2 in /usr/local/lib/python3.9/dist-packages (from spacy<3.3.0,>=3.2.1->en-ner-skills==any) (2.0.7)\n",
            "Requirement already satisfied: spacy-legacy<3.1.0,>=3.0.8 in /usr/local/lib/python3.9/dist-packages (from spacy<3.3.0,>=3.2.1->en-ner-skills==any) (3.0.12)\n",
            "Requirement already satisfied: catalogue<2.1.0,>=2.0.6 in /usr/local/lib/python3.9/dist-packages (from spacy<3.3.0,>=3.2.1->en-ner-skills==any) (2.0.8)\n",
            "Requirement already satisfied: srsly<3.0.0,>=2.4.1 in /usr/local/lib/python3.9/dist-packages (from spacy<3.3.0,>=3.2.1->en-ner-skills==any) (2.4.6)\n",
            "Requirement already satisfied: requests<3.0.0,>=2.13.0 in /usr/local/lib/python3.9/dist-packages (from spacy<3.3.0,>=3.2.1->en-ner-skills==any) (2.27.1)\n",
            "Requirement already satisfied: typing-extensions>=3.7.4.3 in /usr/local/lib/python3.9/dist-packages (from pydantic!=1.8,!=1.8.1,<1.9.0,>=1.7.4->spacy<3.3.0,>=3.2.1->en-ner-skills==any) (4.5.0)\n",
            "Requirement already satisfied: certifi>=2017.4.17 in /usr/local/lib/python3.9/dist-packages (from requests<3.0.0,>=2.13.0->spacy<3.3.0,>=3.2.1->en-ner-skills==any) (2022.12.7)\n",
            "Requirement already satisfied: urllib3<1.27,>=1.21.1 in /usr/local/lib/python3.9/dist-packages (from requests<3.0.0,>=2.13.0->spacy<3.3.0,>=3.2.1->en-ner-skills==any) (1.26.15)\n",
            "Requirement already satisfied: charset-normalizer~=2.0.0 in /usr/local/lib/python3.9/dist-packages (from requests<3.0.0,>=2.13.0->spacy<3.3.0,>=3.2.1->en-ner-skills==any) (2.0.12)\n",
            "Requirement already satisfied: idna<4,>=2.5 in /usr/local/lib/python3.9/dist-packages (from requests<3.0.0,>=2.13.0->spacy<3.3.0,>=3.2.1->en-ner-skills==any) (3.4)\n",
            "Requirement already satisfied: click<9.0.0,>=7.1.1 in /usr/local/lib/python3.9/dist-packages (from typer<0.5.0,>=0.3.0->spacy<3.3.0,>=3.2.1->en-ner-skills==any) (8.1.3)\n",
            "Requirement already satisfied: MarkupSafe>=2.0 in /usr/local/lib/python3.9/dist-packages (from jinja2->spacy<3.3.0,>=3.2.1->en-ner-skills==any) (2.1.2)\n"
          ]
        }
      ],
      "source": [
        "!pip install https://huggingface.co/premrawat/en_ner_skills/resolve/main/en_ner_skills-any-py3-none-any.whl\n",
        "\n",
        "# Using spacy.load().\n",
        "import spacy\n",
        "from spacy import displacy\n",
        "nlp = spacy.load(\"en_ner_skills\")\n",
        "\n",
        "# Importing as module.\n",
        "import en_ner_skills\n",
        "nlp = en_ner_skills.load()"
      ]
    },
    {
      "cell_type": "code",
      "source": [
        "result=[]\n",
        "results = nlp(input_asjob)\n",
        "displacy.render(results, style=\"ent\",jupyter=True)\n"
      ],
      "metadata": {
        "colab": {
          "base_uri": "https://localhost:8080/",
          "height": 157
        },
        "id": "SqW7xJamP-Cv",
        "outputId": "63ea01e9-25b1-4e89-8e57-845988998ef2"
      },
      "execution_count": null,
      "outputs": [
        {
          "output_type": "display_data",
          "data": {
            "text/plain": [
              "<IPython.core.display.HTML object>"
            ],
            "text/html": [
              "<span class=\"tex2jax_ignore\"><div class=\"entities\" style=\"line-height: 2.5; direction: ltr\">\n",
              "<mark class=\"entity\" style=\"background: #ddd; padding: 0.45em 0.6em; margin: 0 0.25em; line-height: 1; border-radius: 0.35em;\">\n",
              "    Mechatronics Engineering\n",
              "    <span style=\"font-size: 0.8em; font-weight: bold; line-height: 1; border-radius: 0.35em; vertical-align: middle; margin-left: 0.5rem\">SKILL</span>\n",
              "</mark>\n",
              " Electrical/Electronics Engineering Departments of Electrical/Electronics Engineering (preferentially completed graduate training in the field of electrical engineering) Preferentially in the field of autonomous driving and \n",
              "<mark class=\"entity\" style=\"background: #ddd; padding: 0.45em 0.6em; margin: 0 0.25em; line-height: 1; border-radius: 0.35em;\">\n",
              "    electronic systems\n",
              "    <span style=\"font-size: 0.8em; font-weight: bold; line-height: 1; border-radius: 0.35em; vertical-align: middle; margin-left: 0.5rem\">SKILL</span>\n",
              "</mark>\n",
              " Experienced in the field of electrical engineering Knowledge of high degree \n",
              "<mark class=\"entity\" style=\"background: #ddd; padding: 0.45em 0.6em; margin: 0 0.25em; line-height: 1; border-radius: 0.35em;\">\n",
              "    C++ Perception\n",
              "    <span style=\"font-size: 0.8em; font-weight: bold; line-height: 1; border-radius: 0.35em; vertical-align: middle; margin-left: 0.5rem\">SKILL</span>\n",
              "</mark>\n",
              " or localization Knowledge of developing processes, which have previously worked with \n",
              "<mark class=\"entity\" style=\"background: #ddd; padding: 0.45em 0.6em; margin: 0 0.25em; line-height: 1; border-radius: 0.35em;\">\n",
              "    Agile\n",
              "    <span style=\"font-size: 0.8em; font-weight: bold; line-height: 1; border-radius: 0.35em; vertical-align: middle; margin-left: 0.5rem\">SKILL</span>\n",
              "</mark>\n",
              " (intermediate) processes, and have previously worked with \n",
              "<mark class=\"entity\" style=\"background: #ddd; padding: 0.45em 0.6em; margin: 0 0.25em; line-height: 1; border-radius: 0.35em;\">\n",
              "    Agile\n",
              "    <span style=\"font-size: 0.8em; font-weight: bold; line-height: 1; border-radius: 0.35em; vertical-align: middle; margin-left: 0.5rem\">SKILL</span>\n",
              "</mark>\n",
              " (intermediate) processes to carry out \n",
              "<mark class=\"entity\" style=\"background: #ddd; padding: 0.45em 0.6em; margin: 0 0.25em; line-height: 1; border-radius: 0.35em;\">\n",
              "    CAN-Bus LIN\n",
              "    <span style=\"font-size: 0.8em; font-weight: bold; line-height: 1; border-radius: 0.35em; vertical-align: middle; margin-left: 0.5rem\">SKILL</span>\n",
              "</mark>\n",
              " FlexRAY \n",
              "<mark class=\"entity\" style=\"background: #ddd; padding: 0.45em 0.6em; margin: 0 0.25em; line-height: 1; border-radius: 0.35em;\">\n",
              "    Serial TCP/IP protocols\n",
              "    <span style=\"font-size: 0.8em; font-weight: bold; line-height: 1; border-radius: 0.35em; vertical-align: middle; margin-left: 0.5rem\">SKILL</span>\n",
              "</mark>\n",
              ".</div></span>"
            ]
          },
          "metadata": {}
        }
      ]
    },
    {
      "cell_type": "code",
      "source": [
        "print(type(results))"
      ],
      "metadata": {
        "colab": {
          "base_uri": "https://localhost:8080/"
        },
        "id": "E7m9DSl1b3OB",
        "outputId": "f0ba19e1-441f-44c3-83a1-4615e2b70269"
      },
      "execution_count": null,
      "outputs": [
        {
          "output_type": "stream",
          "name": "stdout",
          "text": [
            "<class 'spacy.tokens.doc.Doc'>\n"
          ]
        }
      ]
    }
  ]
}